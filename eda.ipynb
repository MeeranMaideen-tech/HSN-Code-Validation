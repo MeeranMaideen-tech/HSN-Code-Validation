{
 "cells": [
  {
   "cell_type": "code",
   "execution_count": 1,
   "id": "452c0a85",
   "metadata": {},
   "outputs": [
    {
     "name": "stdout",
     "output_type": "stream",
     "text": [
      "Requirement already satisfied: pandas in c:\\users\\meeran maideen\\appdata\\roaming\\python\\python311\\site-packages (1.5.2)\n",
      "Requirement already satisfied: python-dateutil>=2.8.1 in c:\\users\\meeran maideen\\appdata\\roaming\\python\\python311\\site-packages (from pandas) (2.8.2)\n",
      "Requirement already satisfied: pytz>=2020.1 in c:\\users\\meeran maideen\\appdata\\roaming\\python\\python311\\site-packages (from pandas) (2022.7)\n",
      "Requirement already satisfied: numpy>=1.21.0 in c:\\users\\meeran maideen\\appdata\\local\\programs\\python\\python311\\lib\\site-packages (from pandas) (1.23.5)\n",
      "Requirement already satisfied: six>=1.5 in c:\\users\\meeran maideen\\appdata\\roaming\\python\\python311\\site-packages (from python-dateutil>=2.8.1->pandas) (1.16.0)\n",
      "Note: you may need to restart the kernel to use updated packages.\n"
     ]
    }
   ],
   "source": [
    "pip install pandas"
   ]
  },
  {
   "cell_type": "code",
   "execution_count": 7,
   "id": "bbe2337c",
   "metadata": {},
   "outputs": [
    {
     "name": "stdout",
     "output_type": "stream",
     "text": [
      "Columns: ['HSNCode', 'Description']\n",
      "Missing values:\n",
      " HSNCode        0\n",
      "Description    1\n",
      "dtype: int64\n",
      "Duplicates: 0\n",
      "8    14342\n",
      "6     5772\n",
      "4     1348\n",
      "2       98\n",
      "7        4\n",
      "5        3\n",
      "Name: Length, dtype: int64\n"
     ]
    },
    {
     "name": "stderr",
     "output_type": "stream",
     "text": [
      "C:\\Users\\MEERAN MAIDEEN\\AppData\\Local\\Temp\\ipykernel_13800\\1792501137.py:15: SettingWithCopyWarning: \n",
      "A value is trying to be set on a copy of a slice from a DataFrame.\n",
      "Try using .loc[row_indexer,col_indexer] = value instead\n",
      "\n",
      "See the caveats in the documentation: https://pandas.pydata.org/pandas-docs/stable/user_guide/indexing.html#returning-a-view-versus-a-copy\n",
      "  df_clean['HSNCode'] = df_clean['HSNCode'].astype(str).str.strip()\n",
      "C:\\Users\\MEERAN MAIDEEN\\AppData\\Local\\Temp\\ipykernel_13800\\1792501137.py:21: SettingWithCopyWarning: \n",
      "A value is trying to be set on a copy of a slice from a DataFrame.\n",
      "Try using .loc[row_indexer,col_indexer] = value instead\n",
      "\n",
      "See the caveats in the documentation: https://pandas.pydata.org/pandas-docs/stable/user_guide/indexing.html#returning-a-view-versus-a-copy\n",
      "  df_clean['Length'] = df_clean['HSNCode'].apply(len)\n"
     ]
    }
   ],
   "source": [
    "import pandas as pd\n",
    "\n",
    "# Load\n",
    "df = pd.read_excel('data/HSN_SAC.xlsx')\n",
    "\n",
    "# Strip column names\n",
    "df.columns = df.columns.str.strip()\n",
    "\n",
    "# Print to verify\n",
    "print(\"Columns:\", df.columns.tolist())\n",
    "print(\"Missing values:\\n\", df.isnull().sum())\n",
    "\n",
    "# Clean\n",
    "df_clean = df.dropna(subset=['HSNCode', 'Description'])\n",
    "df_clean['HSNCode'] = df_clean['HSNCode'].astype(str).str.strip()\n",
    "\n",
    "# Check duplicates\n",
    "print(\"Duplicates:\", df_clean.duplicated(subset='HSNCode').sum())\n",
    "\n",
    "# Check lengths\n",
    "df_clean['Length'] = df_clean['HSNCode'].apply(len)\n",
    "print(df_clean['Length'].value_counts())\n",
    "\n",
    "# Save cleaned file\n",
    "df_clean.to_csv('data/Cleaned_HSN_Data.csv', index=False)\n"
   ]
  },
  {
   "cell_type": "code",
   "execution_count": 4,
   "id": "8f3983d0",
   "metadata": {},
   "outputs": [
    {
     "name": "stdout",
     "output_type": "stream",
     "text": [
      "Column names: ['\\nHSNCode', 'Description']\n"
     ]
    }
   ],
   "source": [
    "print(\"Column names:\", df.columns.tolist())\n"
   ]
  }
 ],
 "metadata": {
  "kernelspec": {
   "display_name": "Python 3",
   "language": "python",
   "name": "python3"
  },
  "language_info": {
   "codemirror_mode": {
    "name": "ipython",
    "version": 3
   },
   "file_extension": ".py",
   "mimetype": "text/x-python",
   "name": "python",
   "nbconvert_exporter": "python",
   "pygments_lexer": "ipython3",
   "version": "3.11.1"
  }
 },
 "nbformat": 4,
 "nbformat_minor": 5
}
